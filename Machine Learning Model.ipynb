{
 "cells": [
  {
   "cell_type": "markdown",
   "id": "07cf6165",
   "metadata": {},
   "source": [
    "### NOTE:\n",
    "- This model doesn't take into account the possibility of an employee leaving their position and getting re-employed some time later. The occurrence of this situation has not been calculated but we've speculated it to be quite low.\n",
    "- This model doesn't take into account the difference in being fired vs. leaving the job.\n",
    "- Missing values for age group are replaced with the mode.\n",
    "- The majority of data for highest education level is not indicated so we'll leave it as is."
   ]
  },
  {
   "cell_type": "code",
   "execution_count": 1,
   "id": "f9b0d52c",
   "metadata": {},
   "outputs": [],
   "source": [
    "import pandas as pd\n",
    "pd.set_option('display.max_columns', None)\n",
    "df = pd.read_csv(\"10_05_2021.csv\", parse_dates = [\"start_date\", \"end_date\"], dtype={'work_postal':'str'})"
   ]
  },
  {
   "cell_type": "markdown",
   "id": "0144405c",
   "metadata": {},
   "source": [
    "We'll preprocess the data to make it easier for us to use them in the model."
   ]
  },
  {
   "cell_type": "markdown",
   "id": "95ba3ca3",
   "metadata": {},
   "source": [
    "First, we'll clean the data."
   ]
  },
  {
   "cell_type": "code",
   "execution_count": 2,
   "id": "b7743a33",
   "metadata": {},
   "outputs": [],
   "source": [
    "#Replace under_29 by .under_29 to make it easier when sorting\n",
    "df['age_group'] = df['age_group'].replace(to_replace='under_29', value='.under_29')\n",
    "\n",
    "#Fill in na values for age_group\n",
    "df['age_group'] = df['age_group'].fillna(df['age_group'].value_counts().index[0])\n",
    "\n",
    "#Replace missing values in event column with unknown\n",
    "df['event'] = df['event'].fillna('unknown')"
   ]
  },
  {
   "cell_type": "markdown",
   "id": "a1b88f8e",
   "metadata": {},
   "source": [
    "Next, we'll create a new dataframe that only consists of input and output parameters we're interested in."
   ]
  },
  {
   "cell_type": "code",
   "execution_count": 3,
   "id": "844650cf",
   "metadata": {},
   "outputs": [],
   "source": [
    "#Temporary end_date: this end date is used if the employee is still working\n",
    "temp_end_date = pd.to_datetime('2021-11-01')\n",
    "\n",
    "#Get the list of all employees by their unique IDs\n",
    "employee_ids = df.emplid_sec.unique()\n",
    "\n",
    "#Define list of features we want in our model\n",
    "duration = []\n",
    "division = []\n",
    "department = []\n",
    "comprate = []\n",
    "last_pay_raise = []\n",
    "highest_educ_lvl = []\n",
    "age_group = []\n",
    "event = []\n",
    "\n",
    "#Loop through each employee records\n",
    "for ID in employee_ids:\n",
    "    #Get all records of the employee\n",
    "    employee = df[df['emplid_sec'] == ID].copy()\n",
    "    \n",
    "    ##### DURATION #####\n",
    "    #Add up all durations (there are some inaccuracies doing this)\n",
    "    duration.append(sum(employee['duration'].tolist(), employee.shape[0]))\n",
    "    \n",
    "    ##### DIVISION #####\n",
    "    #Get the last division they were in\n",
    "    employee.sort_values(by=['end_date'], inplace=True)\n",
    "    division.append(employee.iloc[-1]['division'])\n",
    "    \n",
    "    ##### DEPARTMENT #####\n",
    "    #Get the last department they were in\n",
    "    department.append(employee.iloc[-1]['department'])\n",
    "    \n",
    "    ##### COMP RATE #####\n",
    "    #Get the highest comprate\n",
    "    comprate.append(max(employee['comprate'].tolist()))\n",
    "    \n",
    "    ##### LAST PAY RAISE #####\n",
    "    #Get last date of work or temporary last date\n",
    "    if(employee['end_date'].isna().sum()):\n",
    "        end = temp_end_date\n",
    "    else:\n",
    "        end = employee['end_date'].sort_values().tolist()[-1]\n",
    "    #Get date of last pay raise\n",
    "    employee.sort_values(by=['comprate'], inplace=True)\n",
    "    last_raise = employee.iloc[-1]['start_date']\n",
    "    #Calculate the difference\n",
    "    last_pay_raise.append((end - last_raise).days)\n",
    "    \n",
    "    ##### EDUCATION LEVEL #####\n",
    "    #Get the highest education level\n",
    "    highest_educ_lvl.append(sorted(employee['highest_educ_lvl'].tolist())[-1])\n",
    "    \n",
    "    ##### AGE GROUP #####\n",
    "    #Get the age group they were before they left\n",
    "    age_group.append(sorted(employee['age_group'].tolist())[-1])\n",
    "    \n",
    "    ##### EVENT #####\n",
    "    #Get the employee's latest event\n",
    "    employee.sort_values(by=['end_date'], inplace=True)\n",
    "    event.append(employee.iloc[-1]['event'])\n",
    "\n",
    "data = {'duration': duration,\n",
    "        'division': division,\n",
    "        'department': department,\n",
    "        'comprate': comprate,\n",
    "        'last_pay_raise': last_pay_raise,\n",
    "        'highest_educ_lvl': highest_educ_lvl,\n",
    "        'age_group': age_group,\n",
    "        'event': event}\n",
    "model_df = pd.DataFrame(data)"
   ]
  },
  {
   "cell_type": "markdown",
   "id": "c7963add",
   "metadata": {},
   "source": [
    "For our ML model, we'll be using [XGBoost](https://xgboost.readthedocs.io/en/stable/) with the help of [scikit-learn](https://scikit-learn.org/stable/)."
   ]
  },
  {
   "cell_type": "code",
   "execution_count": 4,
   "id": "bc5abb12",
   "metadata": {},
   "outputs": [
    {
     "data": {
      "text/plain": [
       "array([0.69142125, 0.76611182, 0.75234842, 0.75960717, 0.50768574])"
      ]
     },
     "execution_count": 4,
     "metadata": {},
     "output_type": "execute_result"
    }
   ],
   "source": [
    "#pip install xgboost\n",
    "#pip install scikit-learn\n",
    "from xgboost import XGBClassifier\n",
    "from sklearn.model_selection import cross_val_score\n",
    "from sklearn.preprocessing import OrdinalEncoder\n",
    "\n",
    "#Define input and output parameters for model\n",
    "X = model_df.iloc[:, :-1]\n",
    "y = model_df.iloc[:, -1]\n",
    "\n",
    "#One-hot encoding for division, department, highest_educ_lvl, age_group\n",
    "X = pd.get_dummies(X, prefix = ['division', 'department', 'educ', 'age'], columns = ['division', 'department', 'highest_educ_lvl', 'age_group'])\n",
    "\n",
    "#Encode labels for y\n",
    "y = y.replace(to_replace='unknown', value=0)\n",
    "y = y.replace(to_replace='Retirement', value=1)\n",
    "y = y.replace(to_replace='Termination', value=2)\n",
    "\n",
    "cross_val_score(XGBClassifier(eval_metric='mlogloss', use_label_encoder=False), X, y)"
   ]
  },
  {
   "cell_type": "code",
   "execution_count": null,
   "id": "c910576c",
   "metadata": {},
   "outputs": [],
   "source": []
  }
 ],
 "metadata": {
  "kernelspec": {
   "display_name": "Python 3 (ipykernel)",
   "language": "python",
   "name": "python3"
  },
  "language_info": {
   "codemirror_mode": {
    "name": "ipython",
    "version": 3
   },
   "file_extension": ".py",
   "mimetype": "text/x-python",
   "name": "python",
   "nbconvert_exporter": "python",
   "pygments_lexer": "ipython3",
   "version": "3.8.10"
  }
 },
 "nbformat": 4,
 "nbformat_minor": 5
}
