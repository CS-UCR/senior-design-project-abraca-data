{
 "cells": [
  {
   "cell_type": "markdown",
   "id": "7717fe04",
   "metadata": {},
   "source": [
    "## Average rent vs. Duration of work\n",
    "\n",
    "Fair Market Rent prices in Riverside-San Bernardino-Ontario are **very high** compared to the national average. This FMR area is **more expensive** than 97% of other FMR areas. Fair Market Rent for a two-bedroom apartment in Riverside-San Bernardino-Ontario is $1,390 per month.\n",
    "\n",
    "The previous year, rent for a two-bedroom home was $1,289 per month. This is a 7.84% increase year-over-year.\n",
    "\n",
    "Compared to the rest of California, the Riverside-San Bernardino-Ontario FMR area is more expensive than 65% of the state.\n",
    "\n",
    "[source](https://www.rentdata.org/riverside-san-bernardino-ontario-ca-msa/2021)"
   ]
  },
  {
   "cell_type": "code",
   "execution_count": 1,
   "id": "6d78fefc",
   "metadata": {},
   "outputs": [
    {
     "name": "stderr",
     "output_type": "stream",
     "text": [
      "/home/thetz/.local/lib/python3.8/site-packages/IPython/core/interactiveshell.py:3441: DtypeWarning: Columns (12) have mixed types.Specify dtype option on import or set low_memory=False.\n",
      "  exec(code_obj, self.user_global_ns, self.user_ns)\n"
     ]
    }
   ],
   "source": [
    "import pandas as pd\n",
    "from bs4 import BeautifulSoup\n",
    "import requests as r\n",
    "\n",
    "df = pd.read_csv(\"../data/2021_12_07.csv\", parse_dates = [\"start_date\", \"end_date\"])\n",
    "\n",
    "rent_df = df.copy()\n",
    "#assign a recent date to end date if the employee is currently employed\n",
    "rent_df['end_date'] = rent_df['end_date'].fillna(pd.to_datetime('2021-11-01'))\n",
    "#keep employess working after 2020\n",
    "rent_df = rent_df[rent_df['end_date'] >= '2020']\n",
    "#keep the last row of each employee\n",
    "rent_df = rent_df.sort_values(by=['duration'], ascending=False)\n",
    "rent_df = rent_df.drop_duplicates(subset=['emplid_sec'], keep='first')\n",
    "#drop employees with missing zip codes\n",
    "rent_df = rent_df[rent_df['home_postal'].notna()]\n",
    "#only look at CA\n",
    "rent_df = rent_df[rent_df['home_state'] == 'CA']\n",
    "\n",
    "#only keep columns we want\n",
    "rent_df = pd.DataFrame(rent_df, columns=['duration', 'home_postal'])\n",
    "\n",
    "#get all rows using the extended zip code and drop the last four digits\n",
    "for i, row in rent_df[rent_df['home_postal'].str.contains(\"-\", na = False)].iterrows():\n",
    "    new_value = rent_df.at[i, 'home_postal'][0:5]\n",
    "    rent_df.at[i, 'home_postal'] = new_value\n",
    "\n",
    "#drop duplicates\n",
    "rent_df = rent_df.drop_duplicates(subset=['home_postal'], keep='last')\n",
    "rent_df = rent_df.reset_index(drop=True)"
   ]
  },
  {
   "cell_type": "markdown",
   "id": "05d5b028",
   "metadata": {},
   "source": [
    "Using [Ziptastic API](https://ziptasticapi.com), we can convert zipcode to city name."
   ]
  },
  {
   "cell_type": "code",
   "execution_count": 2,
   "id": "2e847a23",
   "metadata": {},
   "outputs": [],
   "source": [
    "home_city = []\n",
    "for index, row in rent_df.iterrows():\n",
    "    url = \"https://ziptasticapi.com/\" + row['home_postal']\n",
    "    response = r.get(url).json()\n",
    "    if \"error\" in response:\n",
    "        home_city.append('NAN')\n",
    "    else:\n",
    "        home_city.append(response['city'])\n",
    "        \n",
    "#we'll ignore the errors\n",
    "rent_df['home_city'] = home_city\n",
    "rent_df = rent_df[rent_df['home_city'] != 'NAN']"
   ]
  },
  {
   "cell_type": "markdown",
   "id": "fe04085c",
   "metadata": {},
   "source": [
    "Next, we standarize the city names to allow us to wepscrape."
   ]
  },
  {
   "cell_type": "code",
   "execution_count": 3,
   "id": "9ca84d03",
   "metadata": {},
   "outputs": [
    {
     "name": "stderr",
     "output_type": "stream",
     "text": [
      "/tmp/ipykernel_680/3682119519.py:6: FutureWarning: The default value of regex will change from True to False in a future version. In addition, single character regular expressions will *not* be treated as literal strings when regex=True.\n",
      "  rent_df['home_city'] = rent_df['home_city'].str.replace(\".\", \"\")\n"
     ]
    }
   ],
   "source": [
    "#convert city names to lowercase\n",
    "#remove any '-' first, then replace spaces with '-'\n",
    "#remove any .\n",
    "rent_df['home_city'] = rent_df['home_city'].str.lower()\n",
    "rent_df['home_city'] = rent_df['home_city'].str.replace(\"-\", \"\")\n",
    "rent_df['home_city'] = rent_df['home_city'].str.replace(\".\", \"\")\n",
    "rent_df['home_city'] = rent_df['home_city'].str.replace(\" \", \"-\")"
   ]
  },
  {
   "cell_type": "markdown",
   "id": "bd172ac7",
   "metadata": {},
   "source": [
    "Using the city names, we'll wepscrape [RENTCafe](https://www.rentcafe.com) to get the average rent of the city as of currently."
   ]
  },
  {
   "cell_type": "code",
   "execution_count": 4,
   "id": "7980dde1",
   "metadata": {},
   "outputs": [],
   "source": [
    "rent = []\n",
    "for index, row in rent_df.iterrows():\n",
    "    url = \"https://www.rentcafe.com/average-rent-market-trends/us/ca/\" + row['home_city'] + \"/\"\n",
    "    response = r.get(url)\n",
    "    if(response.status_code != 200):\n",
    "        rent.append(0)\n",
    "    else:\n",
    "        soup = BeautifulSoup(response.content, \"html.parser\")\n",
    "        val = soup.find_all(\"td\", {\"class\": \"fs26\"})\n",
    "        if(len(val) == 0):\n",
    "            rent.append(0)\n",
    "        else:\n",
    "            rent.append(int(val[0].text[1:].replace(\",\", \"\")))\n",
    "\n",
    "#ignore errors\n",
    "rent_df['average_rent'] = rent\n",
    "rent_df = rent_df[rent_df['average_rent'] > 0]"
   ]
  },
  {
   "cell_type": "markdown",
   "id": "93d588cb",
   "metadata": {},
   "source": [
    "Next, we'll plot the average rent of their home city vs. the duration of their employement."
   ]
  },
  {
   "cell_type": "code",
   "execution_count": 5,
   "id": "71973466",
   "metadata": {},
   "outputs": [
    {
     "data": {
      "text/plain": [
       "<AxesSubplot:xlabel='average_rent', ylabel='duration'>"
      ]
     },
     "execution_count": 5,
     "metadata": {},
     "output_type": "execute_result"
    },
    {
     "data": {
      "image/png": "[encoded data removed]",
      "text/plain": [
       "<Figure size 432x288 with 1 Axes>"
      ]
     },
     "metadata": {
      "needs_background": "light"
     },
     "output_type": "display_data"
    }
   ],
   "source": [
    "rent_df.plot.scatter(x='average_rent', y='duration')"
   ]
  },
  {
   "cell_type": "markdown",
   "id": "7f70033d",
   "metadata": {},
   "source": [
    "The current chart is looking at everyone who was working starting at the beginning of 2020. There doesn't seem to be any correlation between duration of employement and the average rent in the city. There are a couple of outliers but generally, the rent doesn't affect how long the employee will stay in the department."
   ]
  }
 ],
 "metadata": {
  "kernelspec": {
   "display_name": "Python 3 (ipykernel)",
   "language": "python",
   "name": "python3"
  },
  "language_info": {
   "codemirror_mode": {
    "name": "ipython",
    "version": 3
   },
   "file_extension": ".py",
   "mimetype": "text/x-python",
   "name": "python",
   "nbconvert_exporter": "python",
   "pygments_lexer": "ipython3",
   "version": "3.8.10"
  }
 },
 "nbformat": 4,
 "nbformat_minor": 5
}
