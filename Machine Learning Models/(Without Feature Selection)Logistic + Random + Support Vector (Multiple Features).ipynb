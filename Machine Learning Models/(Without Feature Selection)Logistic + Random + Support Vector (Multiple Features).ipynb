{
 "cells": [
  {
   "cell_type": "code",
   "execution_count": 1,
   "id": "df8683e0",
   "metadata": {},
   "outputs": [],
   "source": [
    "import pandas as pd\n",
    "pd.set_option('display.max_columns', None)\n",
    "df = pd.read_csv(\"source_2021-12-07-09-51-43.csv\", parse_dates = [\"start_date\", \"end_date\"], dtype={'work_postal':'str'})"
   ]
  },
  {
   "cell_type": "code",
   "execution_count": 2,
   "id": "a19274de",
   "metadata": {},
   "outputs": [],
   "source": [
    "#Replace under_29 by .under_29 to make it easier when sorting\n",
    "df['age_group'] = df['age_group'].replace(to_replace='under_29', value='.under_29')\n",
    "\n",
    "#Fill in na values for age_group\n",
    "df['age_group'] = df['age_group'].fillna(df['age_group'].value_counts().index[0])\n",
    "\n",
    "#Replace missing values in event column with unknown\n",
    "df['event'] = df['event'].fillna('unknown')\n",
    "\n",
    "#Drop all temportary positions\n",
    "df = df[~df['jobtitle'].str.contains(\"TEMP\")]"
   ]
  },
  {
   "cell_type": "code",
   "execution_count": 3,
   "id": "c6130803",
   "metadata": {},
   "outputs": [],
   "source": [
    "temp_end_date = pd.to_datetime('2021-12-07')\n",
    "employee_ids = df.emplid_sec.unique()\n",
    "\n",
    "#Define list of features we want in our model\n",
    "duration = []\n",
    "comprate = []\n",
    "last_pay_raise = []\n",
    "age_group = []\n",
    "pay_increase_ot = []\n",
    "piot_compared_avg = []\n",
    "event = []\n",
    "\n",
    "for ID in employee_ids:\n",
    "    #Get all records of the employee\n",
    "    employee = df[df['emplid_sec'] == ID].copy()\n",
    "    \n",
    "    ##### DURATION #####\n",
    "    #Add up all durations (there are some inaccuracies doing this)\n",
    "    duration.append(sum(employee['duration'].tolist(), employee.shape[0]))\n",
    "    \n",
    "    ##### COMP RATE #####\n",
    "    #Get the highest comprate\n",
    "    comprate.append(max(employee['comprate'].tolist()))\n",
    "    \n",
    "    ##### LAST PAY RAISE #####\n",
    "    #Get last date of work or temporary last date\n",
    "    if(employee['end_date'].isna().sum()):\n",
    "        end = temp_end_date\n",
    "    else:\n",
    "        end = employee['end_date'].sort_values().tolist()[-1]\n",
    "    #Get date of last pay raise\n",
    "    employee.sort_values(by=['comprate'], inplace=True)\n",
    "    last_raise = employee.iloc[-1]['start_date']\n",
    "    #Calculate the difference\n",
    "    last_pay_raise.append((end - last_raise).days)\n",
    "    \n",
    "    ##### AGE GROUP #####\n",
    "    #Get the age group they were before they left\n",
    "    age_group.append(sorted(employee['age_group'].tolist())[-1])\n",
    "    \n",
    "    ##### PAY INCREASE OVER TIME #####\n",
    "    #(max - min) / duration\n",
    "    max_rate = max(employee['comprate'].tolist())\n",
    "    min_rate = min(employee['comprate'].tolist())\n",
    "    pay_increase_ot.append((max_rate - min_rate) / duration[-1])\n",
    "    \n",
    "    ##### EVENT #####\n",
    "    #Get the employee's latest event\n",
    "    employee.sort_values(by=['end_date'], inplace=True)\n",
    "    #Currently working\n",
    "    if(pd.isnull(employee.iloc[-1]['end_date'])):\n",
    "        event.append('Working')\n",
    "    else:\n",
    "        event.append(employee.iloc[-1]['event'])\n",
    "        \n",
    "avg_pay_increase_ot = sum(pay_increase_ot) / len(pay_increase_ot)\n",
    "##### COMPRATE INCREASE OVER TIME COMPARED TO AVERAGE #####\n",
    "#calculate the % below or above average\n",
    "for val in pay_increase_ot:\n",
    "    piot_compared_avg.append((val - avg_pay_increase_ot) / avg_pay_increase_ot)"
   ]
  },
  {
   "cell_type": "code",
   "execution_count": 4,
   "id": "e35027ab",
   "metadata": {},
   "outputs": [],
   "source": [
    "from sklearn.linear_model import LogisticRegression\n",
    "from sklearn.model_selection import cross_val_predict, cross_validate\n",
    "from sklearn.preprocessing import LabelEncoder\n",
    "from matplotlib import pyplot\n",
    "from imblearn.over_sampling import SMOTE\n",
    "from sklearn.metrics import confusion_matrix\n",
    "\n",
    "#from sklearn import metrics\n",
    "#logreg = LogisticRegression()\n",
    "#logreg.fit(X_train, y_train)"
   ]
  },
  {
   "cell_type": "code",
   "execution_count": 5,
   "id": "ed97e47a",
   "metadata": {},
   "outputs": [
    {
     "name": "stdout",
     "output_type": "stream",
     "text": [
      "{'Retirement': 0, 'Termination': 1, 'Working': 2}\n"
     ]
    }
   ],
   "source": [
    "data = {'duration': duration,\n",
    "        'comprate': comprate,\n",
    "        'last_pay_raise': last_pay_raise,\n",
    "        'age_group': age_group,\n",
    "        'pay_increase_ot': pay_increase_ot,\n",
    "        'piot_compared_avg': piot_compared_avg,\n",
    "        'event': event}\n",
    "model_df = pd.DataFrame(data)\n",
    "\n",
    "#Drop data points with 'unknown' event\n",
    "model_df = model_df[model_df['event'] != 'unknown']\n",
    "\n",
    "#Define input and output parameters for model\n",
    "X = model_df.iloc[:, :-1]\n",
    "y = model_df.iloc[:, -1]\n",
    "\n",
    "#Encode labels for age_group\n",
    "le = LabelEncoder()\n",
    "le.fit(X['age_group'])\n",
    "X['age_group'] = le.transform(X['age_group'])\n",
    "\n",
    "#Encode labels for y and save the mapping\n",
    "le.fit(y)\n",
    "event_mapping = dict(zip(le.classes_, le.transform(le.classes_)))\n",
    "print(event_mapping)\n",
    "y = le.transform(y)"
   ]
  },
  {
   "cell_type": "code",
   "execution_count": 6,
   "id": "861f03a4",
   "metadata": {},
   "outputs": [
    {
     "name": "stderr",
     "output_type": "stream",
     "text": [
      "c:\\users\\smitm\\appdata\\local\\programs\\python\\python37\\lib\\site-packages\\sklearn\\linear_model\\_logistic.py:818: ConvergenceWarning: lbfgs failed to converge (status=1):\n",
      "STOP: TOTAL NO. of ITERATIONS REACHED LIMIT.\n",
      "\n",
      "Increase the number of iterations (max_iter) or scale the data as shown in:\n",
      "    https://scikit-learn.org/stable/modules/preprocessing.html\n",
      "Please also refer to the documentation for alternative solver options:\n",
      "    https://scikit-learn.org/stable/modules/linear_model.html#logistic-regression\n",
      "  extra_warning_msg=_LOGISTIC_SOLVER_CONVERGENCE_MSG,\n",
      "c:\\users\\smitm\\appdata\\local\\programs\\python\\python37\\lib\\site-packages\\sklearn\\linear_model\\_logistic.py:818: ConvergenceWarning: lbfgs failed to converge (status=1):\n",
      "STOP: TOTAL NO. of ITERATIONS REACHED LIMIT.\n",
      "\n",
      "Increase the number of iterations (max_iter) or scale the data as shown in:\n",
      "    https://scikit-learn.org/stable/modules/preprocessing.html\n",
      "Please also refer to the documentation for alternative solver options:\n",
      "    https://scikit-learn.org/stable/modules/linear_model.html#logistic-regression\n",
      "  extra_warning_msg=_LOGISTIC_SOLVER_CONVERGENCE_MSG,\n",
      "c:\\users\\smitm\\appdata\\local\\programs\\python\\python37\\lib\\site-packages\\sklearn\\linear_model\\_logistic.py:818: ConvergenceWarning: lbfgs failed to converge (status=1):\n",
      "STOP: TOTAL NO. of ITERATIONS REACHED LIMIT.\n",
      "\n",
      "Increase the number of iterations (max_iter) or scale the data as shown in:\n",
      "    https://scikit-learn.org/stable/modules/preprocessing.html\n",
      "Please also refer to the documentation for alternative solver options:\n",
      "    https://scikit-learn.org/stable/modules/linear_model.html#logistic-regression\n",
      "  extra_warning_msg=_LOGISTIC_SOLVER_CONVERGENCE_MSG,\n",
      "c:\\users\\smitm\\appdata\\local\\programs\\python\\python37\\lib\\site-packages\\sklearn\\linear_model\\_logistic.py:818: ConvergenceWarning: lbfgs failed to converge (status=1):\n",
      "STOP: TOTAL NO. of ITERATIONS REACHED LIMIT.\n",
      "\n",
      "Increase the number of iterations (max_iter) or scale the data as shown in:\n",
      "    https://scikit-learn.org/stable/modules/preprocessing.html\n",
      "Please also refer to the documentation for alternative solver options:\n",
      "    https://scikit-learn.org/stable/modules/linear_model.html#logistic-regression\n",
      "  extra_warning_msg=_LOGISTIC_SOLVER_CONVERGENCE_MSG,\n",
      "c:\\users\\smitm\\appdata\\local\\programs\\python\\python37\\lib\\site-packages\\sklearn\\linear_model\\_logistic.py:818: ConvergenceWarning: lbfgs failed to converge (status=1):\n",
      "STOP: TOTAL NO. of ITERATIONS REACHED LIMIT.\n",
      "\n",
      "Increase the number of iterations (max_iter) or scale the data as shown in:\n",
      "    https://scikit-learn.org/stable/modules/preprocessing.html\n",
      "Please also refer to the documentation for alternative solver options:\n",
      "    https://scikit-learn.org/stable/modules/linear_model.html#logistic-regression\n",
      "  extra_warning_msg=_LOGISTIC_SOLVER_CONVERGENCE_MSG,\n",
      "c:\\users\\smitm\\appdata\\local\\programs\\python\\python37\\lib\\site-packages\\sklearn\\linear_model\\_logistic.py:818: ConvergenceWarning: lbfgs failed to converge (status=1):\n",
      "STOP: TOTAL NO. of ITERATIONS REACHED LIMIT.\n",
      "\n",
      "Increase the number of iterations (max_iter) or scale the data as shown in:\n",
      "    https://scikit-learn.org/stable/modules/preprocessing.html\n",
      "Please also refer to the documentation for alternative solver options:\n",
      "    https://scikit-learn.org/stable/modules/linear_model.html#logistic-regression\n",
      "  extra_warning_msg=_LOGISTIC_SOLVER_CONVERGENCE_MSG,\n"
     ]
    }
   ],
   "source": [
    "model = LogisticRegression()\n",
    "model.fit(X, y)\n",
    "#plot_importance(model)\n",
    "pyplot.show()\n",
    "y_pred = cross_val_predict(model, X, y)\n",
    "matrix = confusion_matrix(y, y_pred)"
   ]
  },
  {
   "cell_type": "code",
   "execution_count": 7,
   "id": "57992c37",
   "metadata": {},
   "outputs": [
    {
     "name": "stdout",
     "output_type": "stream",
     "text": [
      "[0.47339782 0.71663244 0.5317823 ]\n"
     ]
    },
    {
     "name": "stderr",
     "output_type": "stream",
     "text": [
      "c:\\users\\smitm\\appdata\\local\\programs\\python\\python37\\lib\\site-packages\\sklearn\\linear_model\\_logistic.py:818: ConvergenceWarning: lbfgs failed to converge (status=1):\n",
      "STOP: TOTAL NO. of ITERATIONS REACHED LIMIT.\n",
      "\n",
      "Increase the number of iterations (max_iter) or scale the data as shown in:\n",
      "    https://scikit-learn.org/stable/modules/preprocessing.html\n",
      "Please also refer to the documentation for alternative solver options:\n",
      "    https://scikit-learn.org/stable/modules/linear_model.html#logistic-regression\n",
      "  extra_warning_msg=_LOGISTIC_SOLVER_CONVERGENCE_MSG,\n",
      "c:\\users\\smitm\\appdata\\local\\programs\\python\\python37\\lib\\site-packages\\sklearn\\linear_model\\_logistic.py:818: ConvergenceWarning: lbfgs failed to converge (status=1):\n",
      "STOP: TOTAL NO. of ITERATIONS REACHED LIMIT.\n",
      "\n",
      "Increase the number of iterations (max_iter) or scale the data as shown in:\n",
      "    https://scikit-learn.org/stable/modules/preprocessing.html\n",
      "Please also refer to the documentation for alternative solver options:\n",
      "    https://scikit-learn.org/stable/modules/linear_model.html#logistic-regression\n",
      "  extra_warning_msg=_LOGISTIC_SOLVER_CONVERGENCE_MSG,\n",
      "c:\\users\\smitm\\appdata\\local\\programs\\python\\python37\\lib\\site-packages\\sklearn\\linear_model\\_logistic.py:818: ConvergenceWarning: lbfgs failed to converge (status=1):\n",
      "STOP: TOTAL NO. of ITERATIONS REACHED LIMIT.\n",
      "\n",
      "Increase the number of iterations (max_iter) or scale the data as shown in:\n",
      "    https://scikit-learn.org/stable/modules/preprocessing.html\n",
      "Please also refer to the documentation for alternative solver options:\n",
      "    https://scikit-learn.org/stable/modules/linear_model.html#logistic-regression\n",
      "  extra_warning_msg=_LOGISTIC_SOLVER_CONVERGENCE_MSG,\n",
      "c:\\users\\smitm\\appdata\\local\\programs\\python\\python37\\lib\\site-packages\\sklearn\\linear_model\\_logistic.py:818: ConvergenceWarning: lbfgs failed to converge (status=1):\n",
      "STOP: TOTAL NO. of ITERATIONS REACHED LIMIT.\n",
      "\n",
      "Increase the number of iterations (max_iter) or scale the data as shown in:\n",
      "    https://scikit-learn.org/stable/modules/preprocessing.html\n",
      "Please also refer to the documentation for alternative solver options:\n",
      "    https://scikit-learn.org/stable/modules/linear_model.html#logistic-regression\n",
      "  extra_warning_msg=_LOGISTIC_SOLVER_CONVERGENCE_MSG,\n"
     ]
    },
    {
     "name": "stdout",
     "output_type": "stream",
     "text": [
      "[0.38828341 0.55188726 0.70834432 0.70089197 0.57550342]\n"
     ]
    },
    {
     "name": "stderr",
     "output_type": "stream",
     "text": [
      "c:\\users\\smitm\\appdata\\local\\programs\\python\\python37\\lib\\site-packages\\sklearn\\linear_model\\_logistic.py:818: ConvergenceWarning: lbfgs failed to converge (status=1):\n",
      "STOP: TOTAL NO. of ITERATIONS REACHED LIMIT.\n",
      "\n",
      "Increase the number of iterations (max_iter) or scale the data as shown in:\n",
      "    https://scikit-learn.org/stable/modules/preprocessing.html\n",
      "Please also refer to the documentation for alternative solver options:\n",
      "    https://scikit-learn.org/stable/modules/linear_model.html#logistic-regression\n",
      "  extra_warning_msg=_LOGISTIC_SOLVER_CONVERGENCE_MSG,\n"
     ]
    }
   ],
   "source": [
    "print(matrix.diagonal()/matrix.sum(axis=1))\n",
    "result = cross_validate(model, X, y, scoring='f1_weighted')\n",
    "print(result['test_score'])"
   ]
  },
  {
   "cell_type": "code",
   "execution_count": 8,
   "id": "01ee37e1",
   "metadata": {},
   "outputs": [
    {
     "name": "stderr",
     "output_type": "stream",
     "text": [
      "c:\\users\\smitm\\appdata\\local\\programs\\python\\python37\\lib\\site-packages\\sklearn\\linear_model\\_logistic.py:818: ConvergenceWarning: lbfgs failed to converge (status=1):\n",
      "STOP: TOTAL NO. of ITERATIONS REACHED LIMIT.\n",
      "\n",
      "Increase the number of iterations (max_iter) or scale the data as shown in:\n",
      "    https://scikit-learn.org/stable/modules/preprocessing.html\n",
      "Please also refer to the documentation for alternative solver options:\n",
      "    https://scikit-learn.org/stable/modules/linear_model.html#logistic-regression\n",
      "  extra_warning_msg=_LOGISTIC_SOLVER_CONVERGENCE_MSG,\n"
     ]
    },
    {
     "data": {
      "text/plain": [
       "LogisticRegression()"
      ]
     },
     "execution_count": 8,
     "metadata": {},
     "output_type": "execute_result"
    }
   ],
   "source": [
    "from sklearn.model_selection import train_test_split\n",
    "X_train, X_test, y_train, y_test = train_test_split(X, y, test_size=0.3, random_state=0)\n",
    "from sklearn.linear_model import LogisticRegression\n",
    "from sklearn import metrics\n",
    "logreg = LogisticRegression()\n",
    "logreg.fit(X_train, y_train)"
   ]
  },
  {
   "cell_type": "code",
   "execution_count": 19,
   "id": "ec4a6055",
   "metadata": {},
   "outputs": [
    {
     "name": "stdout",
     "output_type": "stream",
     "text": [
      "Logistic regression accuracy: 0.645\n"
     ]
    }
   ],
   "source": [
    "from sklearn.metrics import accuracy_score\n",
    "print('Logistic regression accuracy: {:.3f}'.format(accuracy_score(y_test, logreg.predict(X_test))))"
   ]
  },
  {
   "cell_type": "code",
   "execution_count": 10,
   "id": "22a45634",
   "metadata": {},
   "outputs": [
    {
     "data": {
      "text/plain": [
       "RandomForestClassifier()"
      ]
     },
     "execution_count": 10,
     "metadata": {},
     "output_type": "execute_result"
    }
   ],
   "source": [
    "from sklearn.ensemble import RandomForestClassifier\n",
    "rf = RandomForestClassifier()\n",
    "rf.fit(X_train, y_train)"
   ]
  },
  {
   "cell_type": "code",
   "execution_count": 11,
   "id": "ba17348a",
   "metadata": {},
   "outputs": [
    {
     "name": "stdout",
     "output_type": "stream",
     "text": [
      "Random Forest Accuracy: 0.795\n"
     ]
    }
   ],
   "source": [
    "print('Random Forest Accuracy: {:.3f}'.format(accuracy_score(y_test, rf.predict(X_test))))"
   ]
  },
  {
   "cell_type": "code",
   "execution_count": 23,
   "id": "4e4d6eb3",
   "metadata": {},
   "outputs": [],
   "source": [
    "#y_pred = rf.predict(X_test)\n",
    "#print(classification_report(y_test, y_pred))"
   ]
  },
  {
   "cell_type": "code",
   "execution_count": 12,
   "id": "c3d5e6a3",
   "metadata": {},
   "outputs": [
    {
     "data": {
      "text/plain": [
       "SVC()"
      ]
     },
     "execution_count": 12,
     "metadata": {},
     "output_type": "execute_result"
    }
   ],
   "source": [
    "from sklearn.svm import SVC\n",
    "svc = SVC()\n",
    "svc.fit(X_train, y_train)"
   ]
  },
  {
   "cell_type": "code",
   "execution_count": 13,
   "id": "6c796d46",
   "metadata": {},
   "outputs": [
    {
     "name": "stdout",
     "output_type": "stream",
     "text": [
      "Support vector machine accuracy: 0.651\n"
     ]
    }
   ],
   "source": [
    "print('Support vector machine accuracy: {:.3f}'.format(accuracy_score(y_test, svc.predict(X_test))))"
   ]
  },
  {
   "cell_type": "code",
   "execution_count": 14,
   "id": "d1b5db2f",
   "metadata": {},
   "outputs": [
    {
     "name": "stdout",
     "output_type": "stream",
     "text": [
      "10-fold cross validation average accuracy: 0.789\n"
     ]
    }
   ],
   "source": [
    "from sklearn import model_selection\n",
    "from sklearn.model_selection import cross_val_score\n",
    "kfold = model_selection.KFold(n_splits=10, shuffle=True, random_state=7)\n",
    "modelCV = RandomForestClassifier()\n",
    "scoring = 'accuracy'\n",
    "results = model_selection.cross_val_score(modelCV, X_train, y_train, cv=kfold, scoring=scoring)\n",
    "print(\"10-fold cross validation average accuracy: %.3f\" % (results.mean()))"
   ]
  },
  {
   "cell_type": "code",
   "execution_count": null,
   "id": "e91c64e2",
   "metadata": {},
   "outputs": [],
   "source": [
    "The average accuracy remains very close to the Random Forest model accuracy; \n",
    "hence, we can conclude that the model generalizes well."
   ]
  },
  {
   "cell_type": "code",
   "execution_count": 15,
   "id": "0389e178",
   "metadata": {},
   "outputs": [
    {
     "name": "stdout",
     "output_type": "stream",
     "text": [
      "              precision    recall  f1-score   support\n",
      "\n",
      "           0       0.76      0.73      0.74       488\n",
      "           1       0.83      0.80      0.82      1648\n",
      "           2       0.77      0.81      0.79      1412\n",
      "\n",
      "    accuracy                           0.79      3548\n",
      "   macro avg       0.79      0.78      0.78      3548\n",
      "weighted avg       0.80      0.79      0.79      3548\n",
      "\n"
     ]
    }
   ],
   "source": [
    "from sklearn.metrics import classification_report\n",
    "print(classification_report(y_test, rf.predict(X_test)))"
   ]
  },
  {
   "cell_type": "code",
   "execution_count": 21,
   "id": "646be512",
   "metadata": {},
   "outputs": [
    {
     "name": "stdout",
     "output_type": "stream",
     "text": [
      "              precision    recall  f1-score   support\n",
      "\n",
      "           0       0.54      0.48      0.51       488\n",
      "           1       0.69      0.72      0.70      1648\n",
      "           2       0.62      0.61      0.62      1412\n",
      "\n",
      "    accuracy                           0.64      3548\n",
      "   macro avg       0.62      0.60      0.61      3548\n",
      "weighted avg       0.64      0.64      0.64      3548\n",
      "\n"
     ]
    }
   ],
   "source": [
    "print(classification_report(y_test, logreg.predict(X_test)))"
   ]
  },
  {
   "cell_type": "code",
   "execution_count": 17,
   "id": "6a360fad",
   "metadata": {},
   "outputs": [
    {
     "name": "stdout",
     "output_type": "stream",
     "text": [
      "              precision    recall  f1-score   support\n",
      "\n",
      "           0       0.69      0.07      0.13       488\n",
      "           1       0.71      0.80      0.75      1648\n",
      "           2       0.58      0.68      0.63      1412\n",
      "\n",
      "    accuracy                           0.65      3548\n",
      "   macro avg       0.66      0.52      0.50      3548\n",
      "weighted avg       0.66      0.65      0.62      3548\n",
      "\n"
     ]
    }
   ],
   "source": [
    "print(classification_report(y_test, svc.predict(X_test)))"
   ]
  },
  {
   "cell_type": "code",
   "execution_count": null,
   "id": "ffa0cf19",
   "metadata": {},
   "outputs": [],
   "source": []
  }
 ],
 "metadata": {
  "kernelspec": {
   "display_name": "Python 3 (ipykernel)",
   "language": "python",
   "name": "python3"
  },
  "language_info": {
   "codemirror_mode": {
    "name": "ipython",
    "version": 3
   },
   "file_extension": ".py",
   "mimetype": "text/x-python",
   "name": "python",
   "nbconvert_exporter": "python",
   "pygments_lexer": "ipython3",
   "version": "3.7.4"
  }
 },
 "nbformat": 4,
 "nbformat_minor": 5
}
