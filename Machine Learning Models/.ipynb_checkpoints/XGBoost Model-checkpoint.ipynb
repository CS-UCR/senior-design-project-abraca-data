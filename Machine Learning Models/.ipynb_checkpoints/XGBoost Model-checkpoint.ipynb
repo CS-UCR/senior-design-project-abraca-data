{
 "cells": [
  {
   "cell_type": "markdown",
   "id": "07cf6165",
   "metadata": {},
   "source": [
    "### NOTE:\n",
    "- Model doesn't take into account the possibility of an employee leaving their position and getting re-employed some time later. The occurrence of this situation has not been calculated but we've speculated it to be quite low.\n",
    "- Model doesn't take into account the difference in being fired vs. leaving the job.\n",
    "- Missing values for categorical values are replaced with the mode."
   ]
  },
  {
   "cell_type": "code",
   "execution_count": 1,
   "id": "f9b0d52c",
   "metadata": {},
   "outputs": [],
   "source": [
    "import pandas as pd\n",
    "pd.set_option('display.max_columns', None)\n",
    "df = pd.read_csv(\"../data/2021_12_07.csv\", parse_dates = [\"start_date\", \"end_date\"], dtype={'work_postal':'str'})"
   ]
  },
  {
   "cell_type": "markdown",
   "id": "0144405c",
   "metadata": {},
   "source": [
    "We'll preprocess the data to make it easier for us to use them in the model."
   ]
  },
  {
   "cell_type": "markdown",
   "id": "95ba3ca3",
   "metadata": {},
   "source": [
    "First, we'll clean the data."
   ]
  },
  {
   "cell_type": "code",
   "execution_count": 2,
   "id": "b7743a33",
   "metadata": {},
   "outputs": [],
   "source": [
    "#Replace under_29 by .under_29 to make it easier when sorting\n",
    "df['age_group'] = df['age_group'].replace(to_replace='under_29', value='.under_29')\n",
    "\n",
    "#Fill in na values for age_group\n",
    "df['age_group'] = df['age_group'].fillna(df['age_group'].value_counts().index[0])\n",
    "\n",
    "#Replace missing values in event column with unknown\n",
    "df['event'] = df['event'].fillna('unknown')\n",
    "\n",
    "#Drop all temportary positions\n",
    "df = df[~df['jobtitle'].str.contains(\"TEMP\")]"
   ]
  },
  {
   "cell_type": "markdown",
   "id": "a1b88f8e",
   "metadata": {},
   "source": [
    "Next, we'll create a new dataframe that only consists of input and output parameters we're interested in."
   ]
  },
  {
   "cell_type": "code",
   "execution_count": 3,
   "id": "844650cf",
   "metadata": {},
   "outputs": [],
   "source": [
    "#Temporary end_date: this end date is used if the employee is still working\n",
    "temp_end_date = pd.to_datetime('2021-12-07')\n",
    "\n",
    "#Define what is considered voluntary and involuntary termination\n",
    "#Termination Event Reasons\n",
    "#['Resignation' 'Employee Never reported toWork' 'End Temporary Employment'\n",
    "# 'Probationary Release' 'Death' 'Release/No Fault' 'Misconduct'\n",
    "# 'Job Abandonment' 'Assignment Completed' 'Layoff'\n",
    "# 'Failure to Meet Credentials' 'Discharge' 'Courts pull out from County'\n",
    "# 'FEIN Xfer' 'Relocation' 'Process for Claims Payments'\n",
    "# 'Conversion - Terminated Empl' 'Elected Officials/At Wills']\n",
    "#vol_ter = ['Resignation', 'Employee Never reported toWork', 'Job Abandonment']\n",
    "\n",
    "#Get the list of all employees by their unique IDs\n",
    "employee_ids = df.emplid_sec.unique()\n",
    "\n",
    "#Define list of features we want in our model\n",
    "duration = []\n",
    "comprate = []\n",
    "last_pay_raise = []\n",
    "age_group = []\n",
    "pay_increase_ot = []\n",
    "piot_compared_avg = []\n",
    "event = []\n",
    "\n",
    "#Loop through each employee records\n",
    "for ID in employee_ids:\n",
    "    #Get all records of the employee\n",
    "    employee = df[df['emplid_sec'] == ID].copy()\n",
    "    \n",
    "    ##### DURATION #####\n",
    "    #Add up all durations (there are some inaccuracies doing this)\n",
    "    duration.append(sum(employee['duration'].tolist(), employee.shape[0]))\n",
    "    \n",
    "    ##### COMP RATE #####\n",
    "    #Get the highest comprate\n",
    "    comprate.append(max(employee['comprate'].tolist()))\n",
    "    \n",
    "    ##### LAST PAY RAISE #####\n",
    "    #Get last date of work or temporary last date\n",
    "    if(employee['end_date'].isna().sum()):\n",
    "        end = temp_end_date\n",
    "    else:\n",
    "        end = employee['end_date'].sort_values().tolist()[-1]\n",
    "    #Get date of last pay raise\n",
    "    employee.sort_values(by=['comprate'], inplace=True)\n",
    "    last_raise = employee.iloc[-1]['start_date']\n",
    "    #Calculate the difference\n",
    "    last_pay_raise.append((end - last_raise).days)\n",
    "    \n",
    "    ##### AGE GROUP #####\n",
    "    #Get the age group they were before they left\n",
    "    age_group.append(sorted(employee['age_group'].tolist())[-1])\n",
    "    \n",
    "    ##### PAY INCREASE OVER TIME #####\n",
    "    #(max - min) / duration\n",
    "    max_rate = max(employee['comprate'].tolist())\n",
    "    min_rate = min(employee['comprate'].tolist())\n",
    "    pay_increase_ot.append((max_rate - min_rate) / duration[-1])\n",
    "    \n",
    "    ##### EVENT #####\n",
    "    #Get the employee's latest event\n",
    "    employee.sort_values(by=['end_date'], inplace=True)\n",
    "    #Currently working\n",
    "    if(pd.isnull(employee.iloc[-1]['end_date'])):\n",
    "        event.append('Working')\n",
    "    else:\n",
    "        event.append(employee.iloc[-1]['event'])\n",
    "\n",
    "\n",
    "#Get the average comprate increase over time\n",
    "avg_pay_increase_ot = sum(pay_increase_ot) / len(pay_increase_ot)\n",
    "\n",
    "##### COMPRATE INCREASE OVER TIME COMPARED TO AVERAGE #####\n",
    "#calculate the % below or above average\n",
    "for val in pay_increase_ot:\n",
    "    piot_compared_avg.append((val - avg_pay_increase_ot) / avg_pay_increase_ot)"
   ]
  },
  {
   "cell_type": "markdown",
   "id": "c7963add",
   "metadata": {},
   "source": [
    "Import necessary libraries"
   ]
  },
  {
   "cell_type": "code",
   "execution_count": 4,
   "id": "2fe5067f",
   "metadata": {},
   "outputs": [],
   "source": [
    "#pip install xgboost\n",
    "#pip install scikit-learn\n",
    "from xgboost import XGBClassifier, plot_importance\n",
    "from sklearn.model_selection import cross_val_predict, cross_validate\n",
    "from sklearn.preprocessing import LabelEncoder\n",
    "from matplotlib import pyplot\n",
    "from imblearn.over_sampling import SMOTE\n",
    "from sklearn.metrics import confusion_matrix"
   ]
  },
  {
   "cell_type": "markdown",
   "id": "4066347d",
   "metadata": {},
   "source": [
    "Fit the model"
   ]
  },
  {
   "cell_type": "code",
   "execution_count": 5,
   "id": "f98706dc",
   "metadata": {
    "scrolled": false
   },
   "outputs": [
    {
     "name": "stdout",
     "output_type": "stream",
     "text": [
      "{'Retirement': 0, 'Termination': 1, 'Working': 2}\n"
     ]
    },
    {
     "data": {
      "image/png": "[encoded data removed]",
      "text/plain": [
       "<Figure size 432x288 with 1 Axes>"
      ]
     },
     "metadata": {
      "needs_background": "light"
     },
     "output_type": "display_data"
    },
    {
     "name": "stdout",
     "output_type": "stream",
     "text": [
      "[0.76964933 0.88818368 0.51848774]\n",
      "[0.70967698 0.76508117 0.7808621  0.80823753 0.50581719]\n"
     ]
    }
   ],
   "source": [
    "data = {'duration': duration,\n",
    "        'comprate': comprate,\n",
    "        'last_pay_raise': last_pay_raise,\n",
    "        'age_group': age_group,\n",
    "        'pay_increase_ot': pay_increase_ot,\n",
    "        'piot_compared_avg': piot_compared_avg,\n",
    "        'event': event}\n",
    "model_df = pd.DataFrame(data)\n",
    "\n",
    "#Drop data points with 'unknown' event\n",
    "model_df = model_df[model_df['event'] != 'unknown']\n",
    "\n",
    "#Define input and output parameters for model\n",
    "X = model_df.iloc[:, :-1]\n",
    "y = model_df.iloc[:, -1]\n",
    "\n",
    "#Encode labels for age_group\n",
    "le = LabelEncoder()\n",
    "le.fit(X['age_group'])\n",
    "X['age_group'] = le.transform(X['age_group'])\n",
    "\n",
    "#Encode labels for y and save the mapping\n",
    "le.fit(y)\n",
    "event_mapping = dict(zip(le.classes_, le.transform(le.classes_)))\n",
    "print(event_mapping)\n",
    "y = le.transform(y)\n",
    "\n",
    "#Fit the model\n",
    "model = XGBClassifier(eval_metric='mlogloss', use_label_encoder=False)\n",
    "model.fit(X, y)\n",
    "plot_importance(model)\n",
    "pyplot.show()\n",
    "\n",
    "#Save predictions\n",
    "y_pred = cross_val_predict(model, X, y)\n",
    "\n",
    "#Confusion matrix\n",
    "matrix = confusion_matrix(y, y_pred)\n",
    "print(matrix.diagonal()/matrix.sum(axis=1))\n",
    "\n",
    "#F1_weighted\n",
    "result = cross_validate(model, X, y, scoring='f1_weighted')\n",
    "print(result['test_score'])"
   ]
  }
 ],
 "metadata": {
  "kernelspec": {
   "display_name": "Python 3 (ipykernel)",
   "language": "python",
   "name": "python3"
  },
  "language_info": {
   "codemirror_mode": {
    "name": "ipython",
    "version": 3
   },
   "file_extension": ".py",
   "mimetype": "text/x-python",
   "name": "python",
   "nbconvert_exporter": "python",
   "pygments_lexer": "ipython3",
   "version": "3.8.10"
  }
 },
 "nbformat": 4,
 "nbformat_minor": 5
}
