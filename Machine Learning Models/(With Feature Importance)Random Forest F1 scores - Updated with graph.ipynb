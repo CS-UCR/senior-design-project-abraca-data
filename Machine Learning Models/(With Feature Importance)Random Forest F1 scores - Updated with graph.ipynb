{
 "cells": [
  {
   "cell_type": "code",
   "execution_count": 1,
   "id": "df8683e0",
   "metadata": {},
   "outputs": [],
   "source": [
    "import pandas as pd\n",
    "pd.set_option('display.max_columns', None)\n",
    "df = pd.read_csv(\"source_2021-12-07-09-51-43.csv\", parse_dates = [\"start_date\", \"end_date\"], dtype={'work_postal':'str'})"
   ]
  },
  {
   "cell_type": "code",
   "execution_count": 2,
   "id": "a19274de",
   "metadata": {},
   "outputs": [],
   "source": [
    "#Replace under_29 by .under_29 to make it easier when sorting\n",
    "df['age_group'] = df['age_group'].replace(to_replace='under_29', value='.under_29')\n",
    "\n",
    "#Fill in na values for age_group\n",
    "df['age_group'] = df['age_group'].fillna(df['age_group'].value_counts().index[0])\n",
    "\n",
    "#Replace missing values in event column with unknown\n",
    "df['event'] = df['event'].fillna('unknown')\n",
    "\n",
    "#Drop all temportary positions\n",
    "df = df[~df['jobtitle'].str.contains(\"TEMP\")]"
   ]
  },
  {
   "cell_type": "code",
   "execution_count": 3,
   "id": "c6130803",
   "metadata": {},
   "outputs": [],
   "source": [
    "temp_end_date = pd.to_datetime('2021-12-07')\n",
    "employee_ids = df.emplid_sec.unique()\n",
    "\n",
    "#Define list of features we want in our model\n",
    "duration = []\n",
    "comprate = []\n",
    "last_pay_raise = []\n",
    "age_group = []\n",
    "pay_increase_ot = []\n",
    "piot_compared_avg = []\n",
    "event = []\n",
    "\n",
    "for ID in employee_ids:\n",
    "    #Get all records of the employee\n",
    "    employee = df[df['emplid_sec'] == ID].copy()\n",
    "    \n",
    "    ##### DURATION #####\n",
    "    #Add up all durations (there are some inaccuracies doing this)\n",
    "    duration.append(sum(employee['duration'].tolist(), employee.shape[0]))\n",
    "    \n",
    "    ##### COMP RATE #####\n",
    "    #Get the highest comprate\n",
    "    comprate.append(max(employee['comprate'].tolist()))\n",
    "    \n",
    "    ##### LAST PAY RAISE #####\n",
    "    #Get last date of work or temporary last date\n",
    "    if(employee['end_date'].isna().sum()):\n",
    "        end = temp_end_date\n",
    "    else:\n",
    "        end = employee['end_date'].sort_values().tolist()[-1]\n",
    "    #Get date of last pay raise\n",
    "    employee.sort_values(by=['comprate'], inplace=True)\n",
    "    last_raise = employee.iloc[-1]['start_date']\n",
    "    #Calculate the difference\n",
    "    last_pay_raise.append((end - last_raise).days)\n",
    "    \n",
    "    ##### AGE GROUP #####\n",
    "    #Get the age group they were before they left\n",
    "    age_group.append(sorted(employee['age_group'].tolist())[-1])\n",
    "    \n",
    "    ##### PAY INCREASE OVER TIME #####\n",
    "    #(max - min) / duration\n",
    "    max_rate = max(employee['comprate'].tolist())\n",
    "    min_rate = min(employee['comprate'].tolist())\n",
    "    pay_increase_ot.append((max_rate - min_rate) / duration[-1])\n",
    "    \n",
    "    ##### EVENT #####\n",
    "    #Get the employee's latest event\n",
    "    employee.sort_values(by=['end_date'], inplace=True)\n",
    "    #Currently working\n",
    "    if(pd.isnull(employee.iloc[-1]['end_date'])):\n",
    "        event.append('Working')\n",
    "    else:\n",
    "        event.append(employee.iloc[-1]['event'])\n",
    "        \n",
    "avg_pay_increase_ot = sum(pay_increase_ot) / len(pay_increase_ot)\n",
    "##### COMPRATE INCREASE OVER TIME COMPARED TO AVERAGE #####\n",
    "#calculate the % below or above average\n",
    "for val in pay_increase_ot:\n",
    "    piot_compared_avg.append((val - avg_pay_increase_ot) / avg_pay_increase_ot)"
   ]
  },
  {
   "cell_type": "code",
   "execution_count": 4,
   "id": "e35027ab",
   "metadata": {},
   "outputs": [],
   "source": [
    "from sklearn.ensemble import RandomForestClassifier\n",
    "from sklearn.model_selection import cross_val_predict, cross_validate\n",
    "from sklearn.preprocessing import LabelEncoder\n",
    "from matplotlib import pyplot\n",
    "from imblearn.over_sampling import SMOTE\n",
    "from sklearn.metrics import confusion_matrix\n",
    "\n",
    "#from sklearn import metrics\n",
    "#logreg = LogisticRegression()\n",
    "#logreg.fit(X_train, y_train)"
   ]
  },
  {
   "cell_type": "code",
   "execution_count": 53,
   "id": "ed97e47a",
   "metadata": {},
   "outputs": [
    {
     "name": "stdout",
     "output_type": "stream",
     "text": [
      "{'Retirement': 0, 'Termination': 1, 'Working': 2}\n",
      "pivot_compared_avg-11.13%\n",
      "pay_increase_ot-11.26%\n",
      "age_group-12.48%\n",
      "last_pay_rise-13.31%\n",
      "comprate-22.97%\n",
      "duration-28.86%\n",
      "[0.70133011 0.81986186 0.25675114]\n",
      "[0.50669777 0.55930571 0.58922551 0.62968174 0.43691546]\n"
     ]
    }
   ],
   "source": [
    "data = {'duration': duration,\n",
    "        'comprate': comprate,\n",
    "        'last_pay_raise': last_pay_raise,\n",
    "        'age_group': age_group,\n",
    "        'pay_increase_ot': pay_increase_ot,\n",
    "        'piot_compared_avg': piot_compared_avg,\n",
    "        'event': event}\n",
    "model_df = pd.DataFrame(data)\n",
    "\n",
    "#Drop data points with 'unknown' event\n",
    "model_df = model_df[model_df['event'] != 'unknown']\n",
    "\n",
    "#Define input and output parameters for model\n",
    "X = model_df.iloc[:, :-1]\n",
    "y = model_df.iloc[:, -1]\n",
    "\n",
    "#Encode labels for age_group\n",
    "le = LabelEncoder()\n",
    "le.fit(X['age_group'])\n",
    "X['age_group'] = le.transform(X['age_group'])\n",
    "\n",
    "#Encode labels for y and save the mapping\n",
    "le.fit(y)\n",
    "event_mapping = dict(zip(le.classes_, le.transform(le.classes_)))\n",
    "print(event_mapping)\n",
    "y = le.transform(y)\n",
    "\n",
    "#Fit the model\n",
    "model = RandomForestClassifier()\n",
    "model.fit(X, y)\n",
    "import numpy as np\n",
    "\n",
    "feature_labels = np.array(['duration', 'comprate', 'last_pay_rise', 'age_group', 'pay_increase_ot', \n",
    "      'pivot_compared_avg'])\n",
    "importance = rf.feature_importances_\n",
    "feature_indexes_by_importance = np.argsort(importance)\n",
    "for index in feature_indexes_by_importance:\n",
    "    print('{}-{:.2f}%'.format(feature_labels[index], (importance[index] *100 )))\n",
    "\n",
    "\n",
    "#Save predictions\n",
    "y_pred = cross_val_predict(model, X, y)\n",
    "\n",
    "#Confusion matrix\n",
    "matrix = confusion_matrix(y, y_pred)\n",
    "print(matrix.diagonal()/matrix.sum(axis=1))\n",
    "\n",
    "#F1 weighted \n",
    "result = cross_validate(model, X, y, scoring='f1_weighted')\n",
    "print(result['test_score'])"
   ]
  },
  {
   "cell_type": "code",
   "execution_count": 57,
   "id": "4378cc20",
   "metadata": {},
   "outputs": [
    {
     "data": {
      "text/plain": [
       "<AxesSubplot:xlabel='FEATURE IMPORTANCE', ylabel='FEATURE NAMES'>"
      ]
     },
     "execution_count": 57,
     "metadata": {},
     "output_type": "execute_result"
    },
    {
     "data": {
      "image/png": "[encoded data removed]",
      "text/plain": [
       "<Figure size 432x288 with 1 Axes>"
      ]
     },
     "metadata": {
      "needs_background": "light"
     },
     "output_type": "display_data"
    }
   ],
   "source": [
    "#feat_importances = pd.Series(rf.feature_importances_, index=feature_labels)\n",
    "plt.xlabel('FEATURE IMPORTANCE')\n",
    "plt.ylabel('FEATURE NAMES')\n",
    "feat_importances.nlargest(7).plot(kind='barh')"
   ]
  },
  {
   "cell_type": "code",
   "execution_count": null,
   "id": "9291af42",
   "metadata": {},
   "outputs": [],
   "source": []
  }
 ],
 "metadata": {
  "kernelspec": {
   "display_name": "Python 3 (ipykernel)",
   "language": "python",
   "name": "python3"
  },
  "language_info": {
   "codemirror_mode": {
    "name": "ipython",
    "version": 3
   },
   "file_extension": ".py",
   "mimetype": "text/x-python",
   "name": "python",
   "nbconvert_exporter": "python",
   "pygments_lexer": "ipython3",
   "version": "3.7.4"
  }
 },
 "nbformat": 4,
 "nbformat_minor": 5
}
