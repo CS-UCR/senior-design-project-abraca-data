{
 "cells": [
  {
   "cell_type": "code",
   "execution_count": 28,
   "metadata": {},
   "outputs": [],
   "source": [
    "import pandas as pd\n",
    "import numpy as np\n",
    "from keras.models import Sequential\n",
    "from keras.layers import Dense\n",
    "from keras.wrappers.scikit_learn import KerasClassifier\n",
    "from keras.utils import np_utils\n",
    "from sklearn import model_selection\n",
    "from sklearn.model_selection import cross_val_score\n",
    "from sklearn.model_selection import KFold\n",
    "from sklearn.preprocessing import LabelEncoder\n",
    "from sklearn.pipeline import Pipeline"
   ]
  },
  {
   "cell_type": "markdown",
   "metadata": {},
   "source": [
    "Code cleaning"
   ]
  },
  {
   "cell_type": "code",
   "execution_count": 29,
   "metadata": {},
   "outputs": [
    {
     "name": "stderr",
     "output_type": "stream",
     "text": [
      "/var/folders/mr/mwsr6_lj70d61ys4kkzgnhnh0000gn/T/ipykernel_21668/448601562.py:25: SettingWithCopyWarning: \n",
      "A value is trying to be set on a copy of a slice from a DataFrame\n",
      "\n",
      "See the caveats in the documentation: https://pandas.pydata.org/pandas-docs/stable/user_guide/indexing.html#returning-a-view-versus-a-copy\n",
      "  df[event][i] = \"working\"\n",
      "/var/folders/mr/mwsr6_lj70d61ys4kkzgnhnh0000gn/T/ipykernel_21668/448601562.py:23: SettingWithCopyWarning: \n",
      "A value is trying to be set on a copy of a slice from a DataFrame\n",
      "\n",
      "See the caveats in the documentation: https://pandas.pydata.org/pandas-docs/stable/user_guide/indexing.html#returning-a-view-versus-a-copy\n",
      "  df[event][i] = \"job/division change\"\n",
      "/var/folders/mr/mwsr6_lj70d61ys4kkzgnhnh0000gn/T/ipykernel_21668/448601562.py:27: SettingWithCopyWarning: \n",
      "A value is trying to be set on a copy of a slice from a DataFrame\n",
      "\n",
      "See the caveats in the documentation: https://pandas.pydata.org/pandas-docs/stable/user_guide/indexing.html#returning-a-view-versus-a-copy\n",
      "  df[event][i] = \"unknown\"\n"
     ]
    }
   ],
   "source": [
    "pd.set_option('display.max_columns', None)\n",
    "df = pd.read_csv(\"2021_12_07.csv\", parse_dates = [\"start_date\", \"end_date\"], dtype={'work_postal':'str'})\n",
    "df2 = pd.read_csv(\"comprate_2021-12-07-10-26-31.csv\")\n",
    "\n",
    "#Replace under_29 by .under_29 to make it easier when sorting\n",
    "df['age_group'] = df['age_group'].replace(to_replace='under_29', value='.under_29')\n",
    "\n",
    "#Fill in na values for age_group\n",
    "df['age_group'] = df['age_group'].fillna(df['age_group'].value_counts().index[0])\n",
    "\n",
    "#Replace missing values in event column with unknown\n",
    "# df['event'] = df['event'].fillna('unknown')\n",
    "\n",
    "#replace missing values in event with unknown, working, or job/division change\n",
    "event = 'event'\n",
    "emp_id = 'emplid_sec'\n",
    "end_date = 'end_date'\n",
    "\n",
    "for i in range(len(df)):\n",
    "    if df[event][i] == \"\" or pd.isna(df[event][i]):\n",
    "        j = i + 1\n",
    "        if df[emp_id][j] == df[emp_id][i] and j < len(df):\n",
    "            df[event][i] = \"job/division change\"\n",
    "        elif df[end_date][i] == \"\" or pd.isna(df[end_date][i]):\n",
    "            df[event][i] = \"working\"\n",
    "        else:\n",
    "            df[event][i] = \"unknown\""
   ]
  },
  {
   "cell_type": "code",
   "execution_count": 30,
   "metadata": {},
   "outputs": [],
   "source": [
    "#Temporary end_date: this end date is used if the employee is still working\n",
    "temp_end_date = pd.to_datetime('2021-12-07')\n",
    "\n",
    "#Get the list of all employees by their unique IDs\n",
    "employee_ids = df.emplid_sec.unique()\n",
    "\n",
    "#Define list of features we want in our model\n",
    "duration = []                #total duration of employment in days\n",
    "division = []                #last division employed at\n",
    "department = []              #last department employed at\n",
    "comprate = []                #highest comprate during employment\n",
    "last_pay_raise = []          #days since highest comprate\n",
    "highest_educ_lvl = []        #highest education level\n",
    "age_group = []               #age group\n",
    "pay_increase_ot = []         #(max comprate - min comprate) / duration\n",
    "last_jobtitle_duration = []  #duration of last held jobtitle in days\n",
    "piot_compared_avg = []       #pay increase over time compared with average\n",
    "highest_jt = []              #\n",
    "event = []                   #Unknown, Retirement, Termination"
   ]
  },
  {
   "cell_type": "markdown",
   "metadata": {},
   "source": [
    "Gather relevant features from dataset"
   ]
  },
  {
   "cell_type": "code",
   "execution_count": 31,
   "metadata": {},
   "outputs": [],
   "source": [
    "duration = []                #total duration of employment in days\n",
    "division = []                #last division employed at\n",
    "department = []              #last department employed at\n",
    "comprate = []                #highest comprate during employment\n",
    "last_pay_raise = []          #days since highest comprate\n",
    "highest_educ_lvl = []        #highest education level\n",
    "age_group = []               #age group\n",
    "pay_increase_ot = []         #(max comprate - min comprate) / duration\n",
    "last_jobtitle_duration = []  #duration of last held jobtitle in days\n",
    "event = []                   #Unknown, Retirement, Termination\n",
    "#Loop through each employee records\n",
    "for ID in employee_ids:\n",
    "    #Get all records of the employee\n",
    "    employee = df[df['emplid_sec'] == ID].copy()\n",
    "    \n",
    "    ##### DURATION #####\n",
    "    #number of days worked as of 2021-12-07 (Includes end date)\n",
    "    duration.append(int(sum(employee['duration'].tolist(), employee.shape[0])))\n",
    "    \n",
    "    ##### DIVISION #####\n",
    "    #Get the last division they were in\n",
    "    employee.sort_values(by=['end_date'], inplace=True)\n",
    "    division.append(employee.iloc[-1]['division'])\n",
    "    \n",
    "    ##### DEPARTMENT #####\n",
    "    #Get the last department they were in\n",
    "    employee.sort_values(by=['end_date'], inplace=True)\n",
    "    department.append(employee.iloc[-1]['department'])\n",
    "    \n",
    "    ##### COMP RATE #####\n",
    "    #Get their highest comprate\n",
    "    comprate.append(max(employee['comprate'].tolist()))\n",
    "    \n",
    "    ##### LAST PAY RAISE #####\n",
    "    #Get last date of work or temporary last date\n",
    "    if(employee['end_date'].isna().sum()):\n",
    "        end = temp_end_date\n",
    "    else:\n",
    "        end = employee['end_date'].sort_values().tolist()[-1]\n",
    "    #Get date of last pay raise\n",
    "    employee.sort_values(by=['comprate'], inplace=True)\n",
    "    last_raise = employee.iloc[-1]['start_date']\n",
    "    #Calculate the difference\n",
    "    last_pay_raise.append((end - last_raise).days)\n",
    "    \n",
    "    ##### EDUCATION LEVEL #####\n",
    "    #Get the highest education level\n",
    "    highest_educ_lvl.append(sorted(employee['highest_educ_lvl'].tolist())[-1])\n",
    "    \n",
    "    ##### AGE GROUP #####\n",
    "    #Get the age group they were before they left\n",
    "    age_group.append(sorted(employee['age_group'].tolist())[-1])\n",
    "    \n",
    "    ##### COMPRATE INCREASE OVER TIME #####\n",
    "    #(max - min) / duration\n",
    "    max_rate = max(employee['comprate'].tolist())\n",
    "    min_rate = min(employee['comprate'].tolist())\n",
    "    pay_increase_ot.append((max_rate - min_rate) / duration[-1])\n",
    "    \n",
    "    ##### DURATION OF CURRENT POSITION #####\n",
    "    #Get the duration in days of the last jobtitle they held or currently holding\n",
    "    employee.sort_values(by=['end_date'], inplace=True)\n",
    "    last_jobtitle = employee.iloc[-1]['jobtitle']\n",
    "    last_jobtitle_duration.append(employee.iloc[-1]['duration'] + 1)\n",
    "    for i in reversed(range(len(employee) - 1)):\n",
    "        if(employee.iloc[i]['jobtitle'] == last_jobtitle):\n",
    "            last_jobtitle_duration[-1] += employee.iloc[i]['duration'] + 1\n",
    "        else:\n",
    "            break\n",
    "    ##### EVENT #####\n",
    "    #Get the employee's latest event\n",
    "    #Unknown, Retirement, Termination\n",
    "    employee.sort_values(by=['end_date'], inplace=True)\n",
    "    event.append(employee.iloc[-1]['event'])\n",
    "\n",
    "piot_compared_avg = []  #pay increase over time compared with average\n",
    "\n",
    "#Get the average comprate increase over time\n",
    "avg_pay_increase_ot = sum(pay_increase_ot) / len(pay_increase_ot)\n",
    "\n",
    "##### COMPRATE INCREASE OVER TIME COMPARED TO AVERAGE #####\n",
    "#calculate the % below or above average\n",
    "for val in pay_increase_ot:\n",
    "    piot_compared_avg.append((val - avg_pay_increase_ot) / avg_pay_increase_ot)\n",
    "#Current technique: calculate the average comprate for each jobtitle and sort by the average for its rank\n",
    "\n",
    "#Get all current jobtitles\n",
    "jobtitles = df['jobtitle'].unique()\n",
    "\n",
    "#Dictionary to store average\n",
    "pay_avg_by_jt = {}\n",
    "\n",
    "#Loop through each jobtitles\n",
    "for jt in jobtitles:\n",
    "    #Get all records with the current jobtitle\n",
    "    records = df[df['jobtitle'] == jt].copy()\n",
    "    #Get the maximum comprate for each employee\n",
    "    max_comprates_by_jt = records.groupby(['emplid_sec'])['comprate'].max()\n",
    "    #Calculate the average\n",
    "    pay_avg_by_jt[jt] = sum(max_comprates_by_jt) / len(max_comprates_by_jt)\n",
    "    \n",
    "\n",
    "#Loop through each employees\n",
    "for ID in employee_ids:\n",
    "    #Get all records of the employee\n",
    "    employee = df[df['emplid_sec'] == ID].copy()\n",
    "    \n",
    "    ##### HIGHEST JOB TITLE #####\n",
    "    #Get all jobtitles\n",
    "    jobs = employee['jobtitle'].unique().tolist()\n",
    "    max_rate = 0; #Variable to store the maximum comparate\n",
    "    highest_jt.append(\"\")\n",
    "    #Loop through each jobtitles\n",
    "    for j in jobs:\n",
    "        #Compare the comprate and keep the max\n",
    "        if(pay_avg_by_jt[j] > max_rate):\n",
    "            max_rate = pay_avg_by_jt[j]\n",
    "            highest_jt[-1] = j"
   ]
  },
  {
   "cell_type": "markdown",
   "metadata": {},
   "source": [
    "Encode/convert data to integer values or one hot encoding"
   ]
  },
  {
   "cell_type": "code",
   "execution_count": 32,
   "metadata": {},
   "outputs": [],
   "source": [
    "\n",
    "#encode class values as integers\n",
    "from sklearn.preprocessing import LabelEncoder, LabelBinarizer\n",
    "from sklearn.metrics import make_scorer,accuracy_score, precision_score, recall_score, f1_score\n",
    "lb = LabelBinarizer()\n",
    "\n",
    "scores = {'accuracy' : make_scorer(accuracy_score),\n",
    "            'precision' : make_scorer(precision_score, average = 'micro'),\n",
    "            'recall' : make_scorer(recall_score, average = 'micro'),\n",
    "            'f1_score': make_scorer(f1_score,average = 'micro')}\n",
    "precision = make_scorer(precision_score, average = 'micro')\n",
    "\n",
    "age_group = LabelEncoder().fit_transform(age_group)\n",
    "event = LabelEncoder().fit_transform(event)\n",
    "\n",
    "Y = event\n",
    "X = pd.DataFrame()\n",
    "X['duraton'] = duration\n",
    "X['agegroup'] = age_group\n",
    "X['comprate'] = comprate\n",
    "\n",
    "dataset = X.values\n",
    "\n",
    "# convert integers to dummy variables (i.e. one hot encoded)\n",
    "dummy_y = np_utils.to_categorical(Y)\n"
   ]
  },
  {
   "cell_type": "markdown",
   "metadata": {},
   "source": [
    "ML Model"
   ]
  },
  {
   "cell_type": "code",
   "execution_count": 38,
   "metadata": {},
   "outputs": [
    {
     "name": "stderr",
     "output_type": "stream",
     "text": [
      "/var/folders/mr/mwsr6_lj70d61ys4kkzgnhnh0000gn/T/ipykernel_21668/2767307662.py:11: DeprecationWarning: KerasClassifier is deprecated, use Sci-Keras (https://github.com/adriangb/scikeras) instead.\n",
      "  estimator = KerasClassifier(build_fn=baseline_model, epochs=200, batch_size=5, verbose =0)\n",
      "2022-01-10 14:11:25.392897: I tensorflow/core/platform/cpu_feature_guard.cc:151] This TensorFlow binary is optimized with oneAPI Deep Neural Network Library (oneDNN) to use the following CPU instructions in performance-critical operations:  AVX2 FMA\n",
      "To enable them in other operations, rebuild TensorFlow with the appropriate compiler flags.\n",
      "2022-01-10 14:15:42.660199: I tensorflow/core/platform/cpu_feature_guard.cc:151] This TensorFlow binary is optimized with oneAPI Deep Neural Network Library (oneDNN) to use the following CPU instructions in performance-critical operations:  AVX2 FMA\n",
      "To enable them in other operations, rebuild TensorFlow with the appropriate compiler flags.\n",
      "2022-01-10 14:15:42.660199: I tensorflow/core/platform/cpu_feature_guard.cc:151] This TensorFlow binary is optimized with oneAPI Deep Neural Network Library (oneDNN) to use the following CPU instructions in performance-critical operations:  AVX2 FMA\n",
      "To enable them in other operations, rebuild TensorFlow with the appropriate compiler flags.\n",
      "2022-01-10 14:15:42.660199: I tensorflow/core/platform/cpu_feature_guard.cc:151] This TensorFlow binary is optimized with oneAPI Deep Neural Network Library (oneDNN) to use the following CPU instructions in performance-critical operations:  AVX2 FMA\n",
      "To enable them in other operations, rebuild TensorFlow with the appropriate compiler flags.\n",
      "/Users/jortega/environments/lib/python3.9/site-packages/sklearn/metrics/_classification.py:1308: UndefinedMetricWarning: Precision is ill-defined and being set to 0.0 in labels with no predicted samples. Use `zero_division` parameter to control this behavior.\n",
      "  _warn_prf(average, modifier, msg_start, len(result))\n"
     ]
    },
    {
     "name": "stdout",
     "output_type": "stream",
     "text": [
      "Acc: 64.90%(0.46%)\n",
      "Prec: nan%(nan%)\n"
     ]
    },
    {
     "name": "stderr",
     "output_type": "stream",
     "text": [
      "/Users/jortega/environments/lib/python3.9/site-packages/sklearn/metrics/_classification.py:1308: UndefinedMetricWarning: Precision is ill-defined and being set to 0.0 in labels with no predicted samples. Use `zero_division` parameter to control this behavior.\n",
      "  _warn_prf(average, modifier, msg_start, len(result))\n"
     ]
    }
   ],
   "source": [
    "#define baseline model\n",
    "def baseline_model():\n",
    "    #create model\n",
    "    model = Sequential()\n",
    "    model.add(Dense(8, input_dim = 3, activation='relu'))\n",
    "    model.add(Dense(5, activation='softmax'))\n",
    "    #compile model\n",
    "    model.compile(loss='categorical_crossentropy',optimizer='adam', metrics=['accuracy'])\n",
    "    return model\n",
    "\n",
    "estimator = KerasClassifier(build_fn=baseline_model, epochs=200, batch_size=5, verbose =0)\n",
    "kfold = KFold(n_splits=3, shuffle=True)\n",
    "#cross_val_score(sgd_clf, X_train, y_train, cv=3, scoring='accuracy', n_jobs=-1)\n",
    "\n",
    "acc = model_selection.cross_val_score(estimator, X, dummy_y, cv=kfold, n_jobs=-1)\n",
    "pres = model_selection.cross_val_score(estimator, X, Y, cv=kfold, n_jobs=-1, scoring=precision)\n",
    "# rec = model_selection.cross_val_score(estimator, X, Y, cv=kfold, n_jobs=-1, scoring='recall_macro')\n",
    "print(\"Acc: %.2f%%(%.2f%%)\" % (acc.mean()*100,acc.std()*100))\n",
    "print(\"Prec: %.2f%%(%.2f%%)\" % (pres.mean()*100,pres.std()*100))\n",
    "# print(\"Rec: %.2f%%(%.2f%%)\" % (rec.mean()*100,rec.std()*100))\n",
    "\n"
   ]
  },
  {
   "cell_type": "markdown",
   "metadata": {},
   "source": []
  }
 ],
 "metadata": {
  "interpreter": {
   "hash": "be1827e4546944a061b4268b628172683f2abe1595604765ff741e781e0d94c0"
  },
  "kernelspec": {
   "display_name": "Python 3.9.7 64-bit ('environments': venv)",
   "language": "python",
   "name": "python3"
  },
  "language_info": {
   "codemirror_mode": {
    "name": "ipython",
    "version": 3
   },
   "file_extension": ".py",
   "mimetype": "text/x-python",
   "name": "python",
   "nbconvert_exporter": "python",
   "pygments_lexer": "ipython3",
   "version": "3.9.7"
  },
  "orig_nbformat": 4
 },
 "nbformat": 4,
 "nbformat_minor": 2
}
