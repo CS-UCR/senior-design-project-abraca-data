{
 "cells": [
  {
   "cell_type": "code",
   "execution_count": 1,
   "metadata": {},
   "outputs": [],
   "source": [
    "import pandas\n",
    "from rcd_defs import *\n",
    "from keras.models import Sequential\n",
    "from keras.layers import Dense\n",
    "from keras.wrappers.scikit_learn import KerasClassifier\n",
    "from keras.utils import np_utils\n",
    "from sklearn.model_selection import cross_val_score\n",
    "from sklearn.model_selection import KFold\n",
    "from sklearn.preprocessing import LabelEncoder\n",
    "from sklearn.pipeline import Pipeline\n"
   ]
  },
  {
   "cell_type": "markdown",
   "metadata": {},
   "source": [
    "Code cleaning"
   ]
  },
  {
   "cell_type": "code",
   "execution_count": 10,
   "metadata": {},
   "outputs": [
    {
     "name": "stderr",
     "output_type": "stream",
     "text": [
      "/var/folders/mr/mwsr6_lj70d61ys4kkzgnhnh0000gn/T/ipykernel_7294/3375641937.py:23: SettingWithCopyWarning: \n",
      "A value is trying to be set on a copy of a slice from a DataFrame\n",
      "\n",
      "See the caveats in the documentation: https://pandas.pydata.org/pandas-docs/stable/user_guide/indexing.html#returning-a-view-versus-a-copy\n",
      "  dataframe[event][i] = \"unknown\"\n",
      "/var/folders/mr/mwsr6_lj70d61ys4kkzgnhnh0000gn/T/ipykernel_7294/3375641937.py:19: SettingWithCopyWarning: \n",
      "A value is trying to be set on a copy of a slice from a DataFrame\n",
      "\n",
      "See the caveats in the documentation: https://pandas.pydata.org/pandas-docs/stable/user_guide/indexing.html#returning-a-view-versus-a-copy\n",
      "  dataframe[event][i] = \"job/division change\"\n"
     ]
    },
    {
     "name": "stdout",
     "output_type": "stream",
     "text": [
      "[3 2 3 ... 1 2 1]\n"
     ]
    }
   ],
   "source": [
    "#load dataset\n",
    "dataframe = pandas.read_csv(\"10_05_2021.csv\", dtype={'work_postal':'str'})\n",
    "dataframe['end_date'] = dataframe['end_date'].fillna(pandas.to_datetime('2021-11-01'))\n",
    "\n",
    "#Replace under_29 by .under_29 to make it easier when sorting\n",
    "dataframe['age_group'] = dataframe['age_group'].replace(to_replace='under_29', value='.under_29')\n",
    "\n",
    "#Fill in na values for age_group\n",
    "dataframe['age_group'] = dataframe['age_group'].fillna(dataframe['age_group'].value_counts().index[0])\n",
    "\n",
    "#Replace missing values in event with unknown, working, or job/division change\n",
    "event = 'event'\n",
    "emp_id = 'emplid_sec'\n",
    "end_date = 'end_date'\n",
    "for i in range(len(dataframe)):\n",
    "    if dataframe[event][i] == \"\" or pandas.isna(dataframe[event][i]):\n",
    "        j = i + 1\n",
    "        if dataframe[emp_id][j] == dataframe[emp_id][i] and j < len(dataframe):\n",
    "            dataframe[event][i] = \"job/division change\"\n",
    "        elif dataframe[end_date][i] == \"\" or pandas.isna(dataframe[end_date][i]):\n",
    "            dataframe[event][i] = \"working\"\n",
    "        else:\n",
    "            dataframe[event][i] = \"unknown\"\n",
    "\n",
    "#encode class values as integers\n",
    "encoder = LabelEncoder()\n",
    "\n",
    "age_col = dataframe[\"age_group\"]\n",
    "encoder.fit(age_col)\n",
    "enc_age = encoder.transform(age_col)\n",
    "dataframe[\"age_group\"] = enc_age.astype(float)\n",
    "\n",
    "job_col = dataframe[\"jobtitle\"]\n",
    "encoder.fit(job_col)\n",
    "enc_job = encoder.transform(job_col)\n",
    "dataframe[\"jobtitle\"] = enc_job.astype(float)\n",
    "\n",
    "event_col = dataframe[\"event\"]\n",
    "encoder.fit(event_col)\n",
    "enc_event = encoder.transform(event_col)\n",
    "dataframe[\"event\"] = enc_event\n",
    "\n",
    "dataset = dataframe.values\n",
    "Y = dataset[:, event_]\n",
    "X = dataset[:,[duration, comprate, jobtitle, age_group]].astype(float)\n",
    "\n",
    "# convert integers to dummy variables (i.e. one hot encoded)\n",
    "dummy_y = np_utils.to_categorical(Y)"
   ]
  },
  {
   "cell_type": "markdown",
   "metadata": {},
   "source": [
    "ML Model"
   ]
  },
  {
   "cell_type": "code",
   "execution_count": 14,
   "metadata": {},
   "outputs": [
    {
     "name": "stderr",
     "output_type": "stream",
     "text": [
      "/var/folders/mr/mwsr6_lj70d61ys4kkzgnhnh0000gn/T/ipykernel_7294/3899244586.py:11: DeprecationWarning: KerasClassifier is deprecated, use Sci-Keras (https://github.com/adriangb/scikeras) instead.\n",
      "  estimator = KerasClassifier(build_fn=baseline_model, epochs=200, batch_size=5, verbose =0)\n"
     ]
    }
   ],
   "source": [
    "\n",
    "\n",
    "\n",
    "#define baseline model\n",
    "def baseline_model():\n",
    "    #create model\n",
    "    model = Sequential()\n",
    "    model.add(Dense(8, input_dim = 4, activation='relu'))\n",
    "    model.add(Dense(4, activation='softmax'))\n",
    "    #compile model\n",
    "    model.compile(loss='categorical_crossentropy',optimizer='adam', metrics=['accuracy'])\n",
    "    return model\n",
    "\n",
    "estimator = KerasClassifier(build_fn=baseline_model, epochs=200, batch_size=5, verbose =0)\n",
    "kfold = KFold(n_splits=10, shuffle=True)\n",
    "results = cross_val_score(estimator, X, dummy_y, cv=kfold)\n",
    "print(\"Baseline: %.2f%%(%.2f%%)\" % (results.mean()*100,results.std()*100))"
   ]
  }
 ],
 "metadata": {
  "interpreter": {
   "hash": "be1827e4546944a061b4268b628172683f2abe1595604765ff741e781e0d94c0"
  },
  "kernelspec": {
   "display_name": "Python 3.9.7 64-bit ('environments': venv)",
   "language": "python",
   "name": "python3"
  },
  "language_info": {
   "codemirror_mode": {
    "name": "ipython",
    "version": 3
   },
   "file_extension": ".py",
   "mimetype": "text/x-python",
   "name": "python",
   "nbconvert_exporter": "python",
   "pygments_lexer": "ipython3",
   "version": "3.9.7"
  },
  "orig_nbformat": 4
 },
 "nbformat": 4,
 "nbformat_minor": 2
}
